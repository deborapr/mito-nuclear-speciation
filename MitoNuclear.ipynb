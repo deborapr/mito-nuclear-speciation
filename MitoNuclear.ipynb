{
 "cells": [
  {
   "cell_type": "code",
   "execution_count": null,
   "metadata": {},
   "outputs": [],
   "source": [
    "# Model for mito-nuclear interaction\n",
    "# References:\n",
    "# A Model for Mitonuclear Coevolution: Speciation and the Barcode Hypothesis; Debora Princepe and Marcus A.M. de Aguir, Syst. Biol (2020)\n",
    "# Signatures of microevolutionary processes in phylogenetic patterns; Carolina L. N. Costa et al., Systematic Biology 68 (2019) 131\n",
    "\n",
    "#\n",
    "import FortranMitoNuclear\n",
    "\n",
    "# enviroment variables - linear size of the living area ( L1 >= L2 )\n",
    "L1 = 400         \n",
    "L2 = 25\n",
    "\n",
    "# population variables\n",
    "n_ind = 1300                    #number of individuals\n",
    "mating_radius = 5.0             #mating radius \n",
    "nuc_mutation_rate = 0.00025     #mutation probability per locus in nDNA\n",
    "mito_mutation_rate = 0.00075    #mutation probability per locus in mtDNA\n",
    "diffusion = 0.02                #probability that offspring will not be placed at parent position\n",
    "n_jump = 20                     #number of neighboring sites where offspring can be (randomly) placed\n",
    "no_mate_prob = 0.37             #probability that individual will not leave offspring\n",
    "mnpm = 3                        #minimum number of compatible mates in the mating neighborhood for reproduction\n",
    "rmax = 2                        #if number of compatible mates < mnpm, mating radius is increased by 1 until rmax\n",
    "\n",
    "\n",
    "# genetic variables\n",
    "nuc_genome = 1500           #nucler genome size (number of loci)\n",
    "mito_genome = 500           #mitochondrial genome size (number of loci)\n",
    "n_gen_threshold = 75        #maximum number of nuclear genetic differences for successful mating (Hamming distance)\n",
    "\n",
    "# interaction strength (width of fitness function)\n",
    "width = 0.025\n",
    "\n",
    "# simulation parameters\n",
    "time = 400                  #number of generations\n",
    "n_read = 0                  # 0=start new run;  1=read previous data and continue from there\n",
    "random_seed = 1234          # seed for random number generator\n",
    "\n",
    "# wrap integer parameters into vector\n",
    "vec_int=(L1,L2,n_ind,rmax,mnpm,n_jump,nuc_genome,mito_genome,n_gen_threshold,time,n_read,random_seed)\n",
    "\n",
    "# wrap real parameters into vector\n",
    "vec_real=(nuc_mutation_rate,mito_mutation_rate,diffusion,no_mate_prob,mating_radius,width)\n",
    "\n",
    "# Call FORTRAN routine\n",
    "FortranMitoNuclear.submitonuclear(vec_int,vec_real)\n",
    "#\n",
    "\n"
   ]
  },
  {
   "cell_type": "code",
   "execution_count": 4,
   "metadata": {},
   "outputs": [
    {
     "data": {
      "image/png": "[encoded data removed]",
      "text/plain": [
       "<Figure size 432x288 with 1 Axes>"
      ]
     },
     "metadata": {
      "needs_background": "light"
     },
     "output_type": "display_data"
    }
   ],
   "source": [
    "#  -------- plot species  -----------\n",
    "#\n",
    "#\n",
    "import matplotlib.pyplot as plt\n",
    "import numpy as np\n",
    "from mycolors import cnames\n",
    "\n",
    "plt.close('all')\n",
    "plt.figure(1)\n",
    "\n",
    "# read data \n",
    "xc, yc, cc = np.loadtxt(\"speciesplot.dat\", unpack=True)\n",
    "\n",
    "nc=np.size(xc)\n",
    "c = np.zeros(nc, dtype=list)\n",
    "for k in range(0,nc):\n",
    "    c[k] = cnames[int(cc[k])]\n",
    "    \n",
    "cnew = c.tolist()   \n",
    "plt.scatter(xc,yc,color=cnew,s=5,marker=\"o\")\n",
    "plt.xlabel(\"X\")\n",
    "plt.ylabel(\"Y\")\n",
    "\n",
    "plt.axis(\"scaled\")\n",
    "plt.axis([0,L1+1,0,L2+1])\n",
    "plt.title(\"population\")\n",
    "plt.savefig(\"species.pdf\")\n",
    "plt.show()\n",
    "#\n",
    "#\n",
    "#  -------- end plotting species  -----------\n",
    "\n"
   ]
  },
  {
   "cell_type": "code",
   "execution_count": 5,
   "metadata": {},
   "outputs": [
    {
     "data": {
      "image/png": "[encoded data removed]",
      "text/plain": [
       "<Figure size 432x288 with 1 Axes>"
      ]
     },
     "metadata": {
      "needs_background": "light"
     },
     "output_type": "display_data"
    },
    {
     "name": "stdout",
     "output_type": "stream",
     "text": [
      "number of species = 9.0\n",
      "gamma index = -2.26\n",
      "alpha index = -1.189\n",
      "normalized Sackin index = -0.671\n",
      "Sackin index = 31\n"
     ]
    }
   ],
   "source": [
    "# -------- run tree -----------------\n",
    "\n",
    "# Call FORTRAN routine\n",
    "import FortranTree\n",
    "\n",
    "FortranTree.subtree()\n",
    "\n",
    "#  -------- plot tree with species  -----------\n",
    "#\n",
    "#\n",
    "import matplotlib.pyplot as plt\n",
    "import numpy as np\n",
    "from mycolors import cnames\n",
    "\n",
    "# replace -1 by NAN in tree file\n",
    "import subprocess\n",
    "subprocess.call([\"sed -i -e 's/-1/NAN/g' tree.dat\"], shell=True)\n",
    "# subprocess.call([\"sed -i -e 's/-1/NAN/g' tree-cluster-time-win.dat\"], shell=True)\n",
    "#plt.close('all')\n",
    "\n",
    "# plot tree and save image\n",
    "plt.figure(2)\n",
    "tx = 0.0\n",
    "ty = 0.0\n",
    "\n",
    "# tree\n",
    "tx, ty = np.loadtxt('tree.dat', unpack=True)\n",
    "plt.title(\"tree\")\n",
    "plt.axis([0,max(tx)+1,-max(ty)*0.05,max(ty)*1.1])\n",
    "plt.ylabel(\"time\",fontsize=14)\n",
    "plt.plot(tx,ty, linewidth=0.5, color='black')\n",
    "\n",
    "# species colors\n",
    "xsp, ccsp = np.loadtxt('order.dat', unpack=True)\n",
    "nc = np.size(xsp)\n",
    "csp = np.zeros(nc, dtype=list)\n",
    "ysp = np.zeros(nc, dtype=list)\n",
    "for k in range(0,nc):\n",
    "    csp[k] = cnames[int(ccsp[k])]    \n",
    "cspnew = csp.tolist()    \n",
    "plt.scatter(xsp,ysp,color=cspnew,s=80,marker=\"o\")\n",
    "\n",
    "# save\n",
    "plt.savefig(\"tree.pdf\")\n",
    "plt.show()\n",
    "#\n",
    "#  -------- end tree plot  -----------\n",
    "\n",
    "\n",
    "# print output parameters\n",
    "nt, n, gamma, alpha, sackin_norm, sackin = np.loadtxt('ntgasns-upgma.dat', unpack=True)\n",
    "\n",
    "print('number of species =',n)\n",
    "print('gamma index =',gamma)\n",
    "print('alpha index =',alpha)\n",
    "print('normalized Sackin index =',sackin_norm)\n",
    "print('Sackin index =',int(sackin))\n"
   ]
  },
  {
   "cell_type": "code",
   "execution_count": null,
   "metadata": {},
   "outputs": [],
   "source": []
  }
 ],
 "metadata": {
  "kernelspec": {
   "display_name": "Python 3",
   "language": "python",
   "name": "python3"
  },
  "language_info": {
   "codemirror_mode": {
    "name": "ipython",
    "version": 3
   },
   "file_extension": ".py",
   "mimetype": "text/x-python",
   "name": "python",
   "nbconvert_exporter": "python",
   "pygments_lexer": "ipython3",
   "version": "3.7.1"
  }
 },
 "nbformat": 4,
 "nbformat_minor": 4
}
